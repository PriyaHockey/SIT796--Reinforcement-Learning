{
 "cells": [
  {
   "cell_type": "code",
   "execution_count": null,
   "metadata": {},
   "outputs": [],
   "source": []
  },
  {
   "cell_type": "code",
   "execution_count": 24,
   "metadata": {},
   "outputs": [],
   "source": [
    "import gym\n",
    "import random"
   ]
  },
  {
   "cell_type": "code",
   "execution_count": 25,
   "metadata": {},
   "outputs": [],
   "source": [
    "from gym import Env\n",
    "from gym.spaces import Discrete, Box\n",
    "import numpy as np"
   ]
  },
  {
   "cell_type": "code",
   "execution_count": 26,
   "metadata": {},
   "outputs": [],
   "source": [
    "class ShowerEnv(Env):\n",
    "    def __init__(self):\n",
    "        #Actions we can take- down, stay, up\n",
    "        self.action_space = Discrete(3)\n",
    "        #Temperature array\n",
    "        self.observation_space = Box(low=np.array([0]), high=np.array([100]))\n",
    "        #Self start temp\n",
    "        self.state = 36 + random.randint(-3,3)\n",
    "        #self shower length\n",
    "        self.shower_length = 60\n",
    "    \n",
    "    def step(self, action):\n",
    "        #Apply action\n",
    "        # 0 -1 = -1 temperature\n",
    "        # 1 -1 = 0\n",
    "        # 2 -1 = 1 temperature\n",
    "        self.state += action -1\n",
    "        #Reduce shower length by 1 second\n",
    "        self.shower_length -= 1\n",
    "        \n",
    "        #Calculate reward\n",
    "        if self.state >=36 and self.state <=38:\n",
    "            reward = 1\n",
    "        else:\n",
    "            reward = -1\n",
    "            \n",
    "        #Check if shower is done\n",
    "        if self.shower_length <= 0:\n",
    "            done = True\n",
    "        else:\n",
    "            done = False\n",
    "            \n",
    "        #Apply temperature noise\n",
    "        self.state += random.randint(-1,1)\n",
    "        #Self placeholder for info\n",
    "        info = {}\n",
    "        \n",
    "        #Return step information\n",
    "        return self.state, reward, done, info\n",
    "    \n",
    "    def render(self):\n",
    "        pass\n",
    "    def reset(self):\n",
    "        #Reset shower temperature\n",
    "        self.state = 36 + random.randint(-3,3)\n",
    "        #Reset shower time\n",
    "        self.shower_length = 60\n",
    "        return self.state\n",
    "    \n",
    "    \n"
   ]
  },
  {
   "cell_type": "code",
   "execution_count": 27,
   "metadata": {},
   "outputs": [
    {
     "name": "stderr",
     "output_type": "stream",
     "text": [
      "C:\\Users\\61401\\Documents\\anaconda\\lib\\site-packages\\gym\\logger.py:30: UserWarning: \u001b[33mWARN: Box bound precision lowered by casting to float32\u001b[0m\n",
      "  warnings.warn(colorize('%s: %s'%('WARN', msg % args), 'yellow'))\n"
     ]
    }
   ],
   "source": [
    "env = ShowerEnv()"
   ]
  },
  {
   "cell_type": "code",
   "execution_count": 28,
   "metadata": {},
   "outputs": [
    {
     "data": {
      "text/plain": [
       "2"
      ]
     },
     "execution_count": 28,
     "metadata": {},
     "output_type": "execute_result"
    }
   ],
   "source": [
    "env.action_space.sample()"
   ]
  },
  {
   "cell_type": "code",
   "execution_count": 29,
   "metadata": {},
   "outputs": [
    {
     "data": {
      "text/plain": [
       "array([35.553574], dtype=float32)"
      ]
     },
     "execution_count": 29,
     "metadata": {},
     "output_type": "execute_result"
    }
   ],
   "source": [
    "env.observation_space.sample()"
   ]
  },
  {
   "cell_type": "code",
   "execution_count": 35,
   "metadata": {},
   "outputs": [
    {
     "name": "stdout",
     "output_type": "stream",
     "text": [
      "Episode:1 Score:-56\n",
      "Episode:2 Score:-56\n",
      "Episode:3 Score:-6\n",
      "Episode:4 Score:-54\n",
      "Episode:5 Score:-24\n",
      "Episode:6 Score:-60\n",
      "Episode:7 Score:-42\n",
      "Episode:8 Score:-52\n",
      "Episode:9 Score:-26\n",
      "Episode:10 Score:-60\n",
      "Episode:11 Score:-34\n",
      "Episode:12 Score:-48\n",
      "Episode:13 Score:-58\n",
      "Episode:14 Score:-60\n",
      "Episode:15 Score:-54\n"
     ]
    }
   ],
   "source": [
    "episodes = 15\n",
    "for episode in range(1, episodes+1):\n",
    "    state = env.reset()\n",
    "    done = False\n",
    "    score = 0\n",
    "    \n",
    "    while not done:\n",
    "        action = env.action_space.sample()\n",
    "        n_state, reward, done, info = env.step(action)\n",
    "        score+=reward\n",
    "    print('Episode:{} Score:{}'.format(episode, score))\n",
    "        "
   ]
  }
 ],
 "metadata": {
  "kernelspec": {
   "display_name": "Python 3",
   "language": "python",
   "name": "python3"
  },
  "language_info": {
   "codemirror_mode": {
    "name": "ipython",
    "version": 3
   },
   "file_extension": ".py",
   "mimetype": "text/x-python",
   "name": "python",
   "nbconvert_exporter": "python",
   "pygments_lexer": "ipython3",
   "version": "3.6.10"
  }
 },
 "nbformat": 4,
 "nbformat_minor": 4
}
